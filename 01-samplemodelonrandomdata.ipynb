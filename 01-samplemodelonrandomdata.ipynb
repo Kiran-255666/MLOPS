{
  "nbformat": 4,
  "nbformat_minor": 0,
  "metadata": {
    "colab": {
      "provenance": []
    },
    "kernelspec": {
      "name": "python3",
      "display_name": "Python 3"
    },
    "language_info": {
      "name": "python"
    }
  },
  "cells": [
    {
      "cell_type": "code",
      "execution_count": 1,
      "metadata": {
        "colab": {
          "base_uri": "https://localhost:8080/"
        },
        "id": "Q1iTxbTLMKf2",
        "outputId": "bd401c82-3af8-4e7b-9925-9e84d41abc4b"
      },
      "outputs": [
        {
          "output_type": "stream",
          "name": "stdout",
          "text": [
            "Model saved to finalized_model.joblib\n"
          ]
        }
      ],
      "source": [
        "import pandas as pd\n",
        "from sklearn.model_selection import train_test_split\n",
        "from sklearn.linear_model import LinearRegression\n",
        "import numpy as np\n",
        "from joblib import dump\n",
        "\n",
        "# Generate dummy data\n",
        "np.random.seed(0)  # For reproducibility\n",
        "X = 2.5 * np.random.randn(1000) + 1.5   # Array of 1000 values with mean = 1.5, stddev = 2.5\n",
        "res = 0.5 * np.random.randn(1000)       # Generate 1000 residual terms\n",
        "y = 2 + 0.3 * X + res                   # Actual values of Y\n",
        "\n",
        "# Create a pandas dataframe to store our X and y values\n",
        "df = pd.DataFrame(\n",
        "    {'X': X,\n",
        "     'y': y}\n",
        ")\n",
        "\n",
        "# Split the data into training/testing sets\n",
        "X_train, X_test, y_train, y_test = train_test_split(df['X'], df['y'], test_size=0.2, random_state=42)\n",
        "\n",
        "# Reshape data\n",
        "X_train = X_train.values.reshape(-1,1)\n",
        "X_test = X_test.values.reshape(-1,1)\n",
        "\n",
        "# Create linear regression object\n",
        "regr = LinearRegression()\n",
        "\n",
        "# Train the model using the training sets\n",
        "regr.fit(X_train, y_train)\n",
        "\n",
        "# Save the model to disk\n",
        "filename = 'finalized_model.joblib'\n",
        "dump(regr, filename)\n",
        "\n",
        "print(f\"Model saved to {filename}\")\n"
      ]
    },
    {
      "cell_type": "code",
      "source": [
        "# Test the model before building flask API\n",
        "from joblib import load\n",
        "import numpy as np\n",
        "\n",
        "def predict(X_values):\n",
        "    \"\"\"\n",
        "    Predict the output using the linear regression model for given input X_values.\n",
        "\n",
        "    Parameters:\n",
        "    - X_values: A list or numpy array of input values.\n",
        "\n",
        "    Returns:\n",
        "    - A list of predicted values.\n",
        "    \"\"\"\n",
        "    # Load the trained model from file\n",
        "    model = load('finalized_model.joblib')\n",
        "\n",
        "    # Ensure X_values is in the correct shape for prediction\n",
        "    X_values = np.array(X_values).reshape(-1, 1)\n",
        "\n",
        "    # Use the loaded model to make predictions\n",
        "    predictions = model.predict(X_values)\n",
        "\n",
        "    return predictions.tolist()\n",
        "\n",
        "# Example usage\n",
        "X_test = [5.0, 2.0, 3.5]  # Replace this with your actual test data\n",
        "predictions = predict(X_test)\n",
        "print(f\"Predictions: {predictions}\")\n"
      ],
      "metadata": {
        "colab": {
          "base_uri": "https://localhost:8080/"
        },
        "id": "z0L9EEEQMcT_",
        "outputId": "9be86bb9-ef96-45ba-e221-9e8e1ccc04f9"
      },
      "execution_count": 2,
      "outputs": [
        {
          "output_type": "stream",
          "name": "stdout",
          "text": [
            "Predictions: [3.4997426334526085, 2.608220450073385, 3.0539815417629965]\n"
          ]
        }
      ]
    },
    {
      "cell_type": "code",
      "source": [],
      "metadata": {
        "id": "J3PHDvmXOgDF"
      },
      "execution_count": null,
      "outputs": []
    }
  ]
}